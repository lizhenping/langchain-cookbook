{
 "cells": [
  {
   "cell_type": "code",
   "execution_count": 1,
   "id": "39854ebd-3273-458b-9481-4a0fe992bf22",
   "metadata": {},
   "outputs": [
    {
     "name": "stdout",
     "output_type": "stream",
     "text": [
      "Looking in indexes: https://pypi.tuna.tsinghua.edu.cn/simple\n",
      "Requirement already satisfied: python-dotenv in /root/pyenv/lib/python3.10/site-packages (1.0.0)\n",
      "\u001b[33mWARNING: Running pip as the 'root' user can result in broken permissions and conflicting behaviour with the system package manager. It is recommended to use a virtual environment instead: https://pip.pypa.io/warnings/venv\u001b[0m\u001b[33m\n",
      "\u001b[0mNote: you may need to restart the kernel to use updated packages.\n"
     ]
    }
   ],
   "source": [
    "%pip install python-dotenv"
   ]
  },
  {
   "cell_type": "code",
   "execution_count": 2,
   "id": "d5e8a185-7140-487f-aa8d-30a26a065aa1",
   "metadata": {},
   "outputs": [],
   "source": [
    "import os\n",
    "from dotenv import load_dotenv\n",
    "\n",
    "\"\"\"\n",
    "config 模块负责加载和管理应用的配置。\n",
    "它从 .env 文件和环境变量中读取配置，并提供一个统一的配置对象。\n",
    "这个模块集中了所有的配置管理，使得配置的修改和维护更加容易。\n",
    "\"\"\"\n",
    "\n",
    "def load_config():\n",
    "    \"\"\"\n",
    "    加载配置\n",
    "    :return: 包含所有配置项的字典\n",
    "    \"\"\"\n",
    "    # 加载 .env 文件中的环境变量\n",
    "    load_dotenv()\n",
    "\n",
    "    return {\n",
    "        # DashScope 相关配置\n",
    "        \"dashscope_api_key\": os.getenv(\"DASHSCOPE_API_KEY\"),\n",
    "        \"chatglm_token\": os.getenv(\"ChatGLM_TOKEN\"),\n",
    "        \"base_url\": \"https://dashscope.aliyuncs.com/compatible-mode/v1\",\n",
    "        \"model_name\": \"qwen-plus\",\n",
    "        # 其他配置项\n",
    "        \"github_token\": os.getenv(\"GITHUB_TOKEN\"),\n",
    "        \"github_repo\": {\n",
    "            \"owner\": os.getenv(\"GITHUB_REPO_OWNER\"),\n",
    "            \"repo\": os.getenv(\"GITHUB_REPO_NAME\"),\n",
    "        },\n",
    "        # 可以根据需要添加更多配置项\n",
    "    }"
   ]
  },
  {
   "cell_type": "code",
   "execution_count": 3,
   "id": "c1f5c7f7",
   "metadata": {},
   "outputs": [
    {
     "name": "stdout",
     "output_type": "stream",
     "text": [
      "我是阿里云开发的一款超大规模语言模型，我叫通义千问。\n"
     ]
    }
   ],
   "source": [
    "import os\n",
    "from openai import OpenAI\n",
    "\n",
    "try:\n",
    "    client = OpenAI(\n",
    "        # 若没有配置环境变量，请用百炼API Key将下行替换为：api_key=\"sk-xxx\",\n",
    "        api_key=os.getenv(\"DASHSCOPE_API_KEY\"),\n",
    "        base_url=\"https://dashscope.aliyuncs.com/compatible-mode/v1\",\n",
    "    )\n",
    "\n",
    "    completion = client.chat.completions.create(\n",
    "        model=\"qwen-plus\",  # 模型列表：https://help.aliyun.com/zh/model-studio/getting-started/models\n",
    "        messages=[\n",
    "            {'role': 'system', 'content': 'You are a helpful assistant.'},\n",
    "            {'role': 'user', 'content': '你是谁？'}\n",
    "            ]\n",
    "    )\n",
    "    print(completion.choices[0].message.content)\n",
    "except Exception as e:\n",
    "    print(f\"错误信息：{e}\")\n",
    "    print(\"请参考文档：https://help.aliyun.com/zh/model-studio/developer-reference/error-code\")"
   ]
  },
  {
   "cell_type": "code",
   "execution_count": 43,
   "id": "d6db371c-ca0b-432a-8ea4-c6694b010f53",
   "metadata": {},
   "outputs": [
    {
     "name": "stdout",
     "output_type": "stream",
     "text": [
      "LLM Result: 为一家生产彩色袜子的公司起一个中文名称时，可以考虑将公司的特色、产品特点以及市场定位等因素融入到名称中。以下是一些建议，希望能够为您提供灵感：\n",
      "\n",
      "1. 彩线织梦（Cǎi Xiàn Zhī Mèng）：这个名字结合了“彩”和“织”，既体现了公司的主营业务——彩色袜子，又寓意着通过每一线条编织出美好的梦想，适合追求品质与创意的品牌形象。\n",
      "2. 色彩之履（Sè Cǎi zhī Lǚ）：“履”在这里指的是鞋子或袜子，整个名字表达出产品色彩丰富，给消费者带来多彩的生活体验。\n",
      "3. 七彩袜屋（Qī Cǎi Wà Wū）：简单直接地表达了这是一家专注于彩色袜子的企业，同时“七彩”也象征着无限的可能性和创造力。\n",
      "4. 颜色工厂（Yán Sè Gōng Chǎng）：强调了颜色的重要性，同时也传达出一种工业化的概念，适合那些希望展现自己生产能力的企业。\n",
      "5. 彩袜乐园（Cǎi Wà Lè Yuán）：将“乐园”一词加入公司名中，不仅突出了产品的多样性，还营造了一种轻松愉快的品牌氛围。\n",
      "\n",
      "选择具体的名字时，还需要考虑到商标注册的可能性，确保所选名称未被其他企业使用。此外，也可以根据目标客户群体的特点来调整命名风格，比如年轻人可能更喜欢时尚、有个性的名字，而家庭用户则可能偏好温馨、可靠的形象。\n",
      "Chat Model Result: content='为一家生产彩色袜子的公司起名时，可以考虑一些既有创意又能体现产品特点的名字。以下是一些建议：\\n\\n1. 彩韵袜业：此名强调了产品的色彩丰富性和音乐般的韵律感。\\n2. 七彩织梦：暗示着多彩的生活梦想，适合追求时尚和个性的消费者。\\n3. 绚丽袜语：传达出彩色袜子如同语言一样，能够表达穿着者的个性和情感。\\n4. 梦幻丝足：梦幻、丝滑的感觉与彩色袜子相结合，吸引喜欢梦幻风格的顾客。\\n5. 魔力彩袜：突出了彩色袜子的独特魅力，仿佛拥有魔力一般。\\n6. 炫彩步履：强调穿着者每一步都充满色彩与活力。\\n\\n选择公司名称时，建议考虑目标市场、品牌定位以及商标注册情况等因素，以确保所选名称既独特又易于传播。'\n"
     ]
    }
   ],
   "source": [
    "import os\n",
    "from dotenv import load_dotenv\n",
    "\n",
    "from langchain.schema import HumanMessage\n",
    "\n",
    "# 加载配置\n",
    "config = load_config()\n",
    "\n",
    "\n",
    "# 初始化 Qwen LLM 客户端\n",
    "\n",
    "from langchain_community.llms import Tongyi\n",
    "\n",
    "\n",
    "llm = Tongyi(dashscope_api_key=os.getenv(\"DASHSCOPE_API_KEY\"), model_name=\"qwen-plus\")\n",
    "\n",
    "from langchain_community.chat_models.tongyi import ChatTongyi\n",
    "\n",
    "chat_model = ChatTongyi(\n",
    "    openai_api_key=os.getenv(\"DASHSCOPE_API_KEY\"),\n",
    "    base_url=\"https://dashscope.aliyuncs.com/compatible-mode/v1\",\n",
    ")\n",
    "\n",
    "# 使用客户端进行后续操作\n",
    "from langchain.schema import HumanMessage\n",
    "\n",
    "text = \"对于一家生产彩色袜子的公司来说，什么是一个好的中文公司名称？\"\n",
    "messages = [HumanMessage(content=text)]\n",
    "\n",
    "llm_result = llm.invoke(text)\n",
    "chat_result = chat_model.invoke(messages)\n",
    "print(\"LLM Result:\", llm_result)\n",
    "print(\"Chat Model Result:\", chat_result)\n"
   ]
  }
 ],
 "metadata": {
  "kernelspec": {
   "display_name": "Python 3",
   "language": "python",
   "name": "python3"
  },
  "language_info": {
   "codemirror_mode": {
    "name": "ipython",
    "version": 3
   },
   "file_extension": ".py",
   "mimetype": "text/x-python",
   "name": "python",
   "nbconvert_exporter": "python",
   "pygments_lexer": "ipython3",
   "version": "3.10.9"
  }
 },
 "nbformat": 4,
 "nbformat_minor": 5
}
