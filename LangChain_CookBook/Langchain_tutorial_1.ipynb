{
 "cells": [
  {
   "cell_type": "code",
   "execution_count": null,
   "id": "39854ebd-3273-458b-9481-4a0fe992bf22",
   "metadata": {},
   "outputs": [],
   "source": [
    "%pip install python-dotenv"
   ]
  },
  {
   "cell_type": "code",
   "execution_count": 2,
   "id": "d5e8a185-7140-487f-aa8d-30a26a065aa1",
   "metadata": {},
   "outputs": [],
   "source": [
    "import os\n",
    "from dotenv import load_dotenv\n",
    "\n",
    "\"\"\"\n",
    "config 模块负责加载和管理应用的配置。\n",
    "它从 .env 文件和环境变量中读取配置，并提供一个统一的配置对象。\n",
    "这个模块集中了所有的配置管理，使得配置的修改和维护更加容易。\n",
    "\"\"\"\n",
    "\n",
    "def load_config():\n",
    "    \"\"\"\n",
    "    加载配置\n",
    "    :return: 包含所有配置项的字典\n",
    "    \"\"\"\n",
    "    # 加载 .env 文件中的环境变量\n",
    "    load_dotenv()\n",
    "\n",
    "    return {\n",
    "        # DashScope 相关配置\n",
    "        \"dashscope_api_key\": os.getenv(\"DASHSCOPE_API_KEY\"),\n",
    "        \"chatglm_token\": os.getenv(\"ChatGLM_TOKEN\"),\n",
    "        \"base_url\": \"https://dashscope.aliyuncs.com/compatible-mode/v1\",\n",
    "        \"model_name\": \"qwen-plus\",\n",
    "        # 其他配置项\n",
    "        \"github_token\": os.getenv(\"GITHUB_TOKEN\"),\n",
    "        \"github_repo\": {\n",
    "            \"owner\": os.getenv(\"GITHUB_REPO_OWNER\"),\n",
    "            \"repo\": os.getenv(\"GITHUB_REPO_NAME\"),\n",
    "        },\n",
    "        # 可以根据需要添加更多配置项\n",
    "    }"
   ]
  },
  {
   "cell_type": "code",
   "execution_count": null,
   "id": "c1f5c7f7",
   "metadata": {},
   "outputs": [],
   "source": [
    "import os\n",
    "from openai import OpenAI\n",
    "\n",
    "try:\n",
    "    client = OpenAI(\n",
    "        # 若没有配置环境变量，请用百炼API Key将下行替换为：api_key=\"sk-xxx\",\n",
    "        api_key=os.getenv(\"DASHSCOPE_API_KEY\"),\n",
    "        base_url=\"https://dashscope.aliyuncs.com/compatible-mode/v1\",\n",
    "    )\n",
    "\n",
    "    completion = client.chat.completions.create(\n",
    "        model=\"qwen-plus\",  # 模型列表：https://help.aliyun.com/zh/model-studio/getting-started/models\n",
    "        messages=[\n",
    "            {'role': 'system', 'content': 'You are a helpful assistant.'},\n",
    "            {'role': 'user', 'content': '你是谁？'}\n",
    "            ]\n",
    "    )\n",
    "    print(completion.choices[0].message.content)\n",
    "except Exception as e:\n",
    "    print(f\"错误信息：{e}\")\n",
    "    print(\"请参考文档：https://help.aliyun.com/zh/model-studio/developer-reference/error-code\")"
   ]
  },
  {
   "cell_type": "code",
   "execution_count": null,
   "id": "d6db371c-ca0b-432a-8ea4-c6694b010f53",
   "metadata": {},
   "outputs": [],
   "source": [
    "import os\n",
    "from dotenv import load_dotenv\n",
    "\n",
    "from langchain.schema import HumanMessage\n",
    "\n",
    "# 加载配置\n",
    "config = load_config()\n",
    "\n",
    "\n",
    "# 初始化 Qwen LLM 客户端\n",
    "\n",
    "from langchain_community.llms import Tongyi\n",
    "\n",
    "\n",
    "llm = Tongyi(dashscope_api_key=os.getenv(\"DASHSCOPE_API_KEY\"), model_name=\"qwen-plus\")\n",
    "\n",
    "from langchain_community.chat_models.tongyi import ChatTongyi\n",
    "\n",
    "chat_model = ChatTongyi(\n",
    "    openai_api_key=os.getenv(\"DASHSCOPE_API_KEY\"),\n",
    "    base_url=\"https://dashscope.aliyuncs.com/compatible-mode/v1\",\n",
    ")\n",
    "\n",
    "# 使用客户端进行后续操作\n",
    "from langchain.schema import HumanMessage\n",
    "\n",
    "text = \"对于一家生产彩色袜子的公司来说，什么是一个好的中文公司名称？\"\n",
    "messages = [HumanMessage(content=text)]\n",
    "\n",
    "llm_result = llm.invoke(text)\n",
    "chat_result = chat_model.invoke(messages)\n",
    "print(\"LLM Result:\", llm_result)\n",
    "print(\"Chat Model Result:\", chat_result)\n"
   ]
  }
 ],
 "metadata": {
  "kernelspec": {
   "display_name": "Python 3",
   "language": "python",
   "name": "python3"
  },
  "language_info": {
   "codemirror_mode": {
    "name": "ipython",
    "version": 3
   },
   "file_extension": ".py",
   "mimetype": "text/x-python",
   "name": "python",
   "nbconvert_exporter": "python",
   "pygments_lexer": "ipython3",
   "version": "3.8.19"
  }
 },
 "nbformat": 4,
 "nbformat_minor": 5
}
