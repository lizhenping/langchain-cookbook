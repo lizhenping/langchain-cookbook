{
 "cells": [
  {
   "cell_type": "code",
   "execution_count": 1,
   "metadata": {},
   "outputs": [
    {
     "name": "stderr",
     "output_type": "stream",
     "text": [
      "/root/miniconda3/envs/chatchat/lib/python3.8/site-packages/langchain_core/_api/deprecation.py:119: LangChainDeprecationWarning: The method `BaseChatModel.__call__` was deprecated in langchain-core 0.1.7 and will be removed in 0.3.0. Use invoke instead.\n",
      "  warn_deprecated(\n"
     ]
    },
    {
     "name": "stdout",
     "output_type": "stream",
     "text": [
      "模型的问候:\n",
      "亲爱的小明，\n",
      "\n",
      "非常感谢您选择并使用我们的服务！我们一直致力于提供高质量的产品和用户体验，您的反馈对我们至关重要。希望您能花几分钟时间与我们分享您的使用体验，无论是对我们的服务感到满意的地方，还是有任何改进建议，我们都十分欢迎。您的意见将帮助我们不断优化服务，更好地满足用户需求。\n",
      "\n",
      "如果您有任何具体的问题或需要帮助的地方，也请随时告诉我们，我们将竭诚为您服务。\n",
      "\n",
      "期待您的宝贵反馈！\n",
      "\n",
      "祝好，\n",
      "Qwen（来自阿里云的助手）\n",
      "小明提供的反馈:\n",
      "我觉得这个服务很好，界面友好，使用方便！\n",
      "模型对用户反馈的回复:\n",
      "非常感谢您的积极反馈，小明！我们很高兴听到您对我们的服务感到满意，特别是您提到的界面友好和使用便捷。这正是我们不断努力的方向。您的意见对我们非常重要，我们会继续努力提升服务质量，确保每一位用户都能拥有最佳的使用体验。如果您有任何其他建议或需要帮助的地方，欢迎随时联系我们。再次感谢您的支持！\n"
     ]
    }
   ],
   "source": [
    "from langchain.prompts import PromptTemplate\n",
    "from langchain.schema import HumanMessage\n",
    "from langchain.chat_models import ChatTongyi\n",
    "import os\n",
    "from dotenv import load_dotenv\n",
    "\n",
    "# 加载环境变量\n",
    "load_dotenv()\n",
    "\n",
    "# 初始化聊天模型\n",
    "chat = ChatTongyi(\n",
    "    model='qwen-plus',\n",
    "    top_p=0.9,\n",
    "    temperature=0.9,\n",
    "    api_key=os.getenv(\"DASHSCOPE_API_KEY\")\n",
    ")\n",
    "\n",
    "# 创建部分提示模板\n",
    "partial_prompt = PromptTemplate(\n",
    "    template=\"{greeting} {name}，我们很高兴您使用我们的服务。请您分享一下您的使用体验如何？\",\n",
    "    input_variables=[\"name\"],\n",
    "    partial_variables={\"greeting\": \"亲爱的用户\"}\n",
    ")\n",
    "\n",
    "# 格式化提示\n",
    "input_name = \"小明\"\n",
    "formatted_prompt = partial_prompt.format(name=input_name)\n",
    "\n",
    "# 将格式化后的提示包装为 HumanMessage，并传递给 chat()\n",
    "response = chat([HumanMessage(content=formatted_prompt)])\n",
    "\n",
    "# 打印模型的初始回复\n",
    "print(\"模型的问候:\")\n",
    "print(response.content)\n",
    "\n",
    "# 假设小明提供了反馈\n",
    "user_feedback = \"我觉得这个服务很好，界面友好，使用方便！\"\n",
    "# 打印小明提供了反馈\n",
    "print(\"小明提供的反馈:\")\n",
    "print(user_feedback)\n",
    "# 将用户反馈传递给聊天模型\n",
    "feedback_prompt = f\"{formatted_prompt}\\n用户反馈: {user_feedback}\"\n",
    "response_feedback = chat([HumanMessage(content=feedback_prompt)])\n",
    "\n",
    "# 打印模型对用户反馈的回复\n",
    "print(\"模型对用户反馈的回复:\")\n",
    "print(response_feedback.content)\n"
   ]
  },
  {
   "cell_type": "code",
   "execution_count": 2,
   "metadata": {},
   "outputs": [
    {
     "name": "stdout",
     "output_type": "stream",
     "text": [
      "模型的回复:\n",
      "1924年10月21日并非一个广为人知的物理学重要日期，但在这一时期，物理学家们正在进行一些非常重要的研究，尤其是在量子力学领域。不过，我们可以讨论一下1924年发生的一个与量子理论发展密切相关的事件，尽管它可能没有精确到10月21日这一天。\n",
      "\n",
      "1924年，法国物理学家路易·德布罗意（Louis de Broglie）在他的博士论文中提出了一个革命性的假设：物质也具有波粒二象性。这个假设是在爱因斯坦关于光量子理论的基础上提出的，德布罗意认为如果光可以被视为既有波动性质也有粒子性质，那么电子等物质粒子也应该具有类似的双重性质。他提出，每一个运动中的粒子，如电子，都伴随着一个波，这个波后来被称为“德布罗意波”。\n",
      "\n",
      "德布罗意的这一假设为量子力学的发展奠定了基础，特别是在解释原子结构和微观粒子行为方面。他的理论得到了实验的验证，特别是通过戴维森-革末实验（Davisson-Germer experiment），该实验在1927年观察到了电子的衍射现象，证实了电子确实具有波动性。德布罗意的工作对量子力学的发展产生了深远的影响，并因此获得了1929年的诺贝尔物理学奖。\n",
      "\n",
      "虽然这个案例没有具体发生在1924年10月21日，但它代表了1924年左右物理学界一个极其重要的进展，对后来的科学和技术发展有着重大意义。\n"
     ]
    }
   ],
   "source": [
    "from datetime import datetime\n",
    "from dateutil.relativedelta import relativedelta\n",
    "from langchain.prompts import PromptTemplate\n",
    "from langchain.schema import HumanMessage\n",
    "from langchain.chat_models import ChatTongyi\n",
    "import os\n",
    "from dotenv import load_dotenv\n",
    "\n",
    "# 加载环境变量\n",
    "load_dotenv()\n",
    "\n",
    "# 初始化聊天模型\n",
    "chat = ChatTongyi(\n",
    "    model='qwen-plus',\n",
    "    top_p=0.9,\n",
    "    temperature=0.9,\n",
    "    api_key=os.getenv(\"DASHSCOPE_API_KEY\")\n",
    ")\n",
    "\n",
    "\n",
    "# 自定义函数，获取100年前的日期\n",
    "def date_100_years_ago():\n",
    "    today = datetime.now()\n",
    "    years_ago = today - relativedelta(years=100)\n",
    "    return years_ago.strftime(\"%Y-%m-%d\")\n",
    "\n",
    "# 创建提示模板\n",
    "prompt = PromptTemplate(\n",
    "    template=\"给我讲一个 {adjective} 案例，在时间 {date}\",\n",
    "    input_variables=[\"adjective\"],\n",
    "    partial_variables={\"date\": date_100_years_ago()}  # 使用函数\n",
    ")\n",
    "\n",
    "# 格式化提示\n",
    "formatted_prompt = prompt.format(adjective=\"物理学\")\n",
    "\n",
    "# 将格式化后的提示包装为 HumanMessage，并传递给 chat()\n",
    "response = chat([HumanMessage(content=formatted_prompt)])\n",
    "\n",
    "# 打印模型的回复\n",
    "print(\"模型的回复:\")\n",
    "print(response.content)\n"
   ]
  },
  {
   "cell_type": "code",
   "execution_count": null,
   "metadata": {},
   "outputs": [],
   "source": []
  }
 ],
 "metadata": {
  "kernelspec": {
   "display_name": "chatchat",
   "language": "python",
   "name": "python3"
  },
  "language_info": {
   "codemirror_mode": {
    "name": "ipython",
    "version": 3
   },
   "file_extension": ".py",
   "mimetype": "text/x-python",
   "name": "python",
   "nbconvert_exporter": "python",
   "pygments_lexer": "ipython3",
   "version": "3.8.19"
  }
 },
 "nbformat": 4,
 "nbformat_minor": 2
}
