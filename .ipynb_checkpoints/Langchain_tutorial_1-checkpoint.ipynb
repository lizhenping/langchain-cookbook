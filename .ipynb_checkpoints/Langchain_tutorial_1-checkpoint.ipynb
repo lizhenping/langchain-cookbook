{
 "cells": [
  {
   "cell_type": "code",
   "execution_count": 1,
   "id": "39854ebd-3273-458b-9481-4a0fe992bf22",
   "metadata": {},
   "outputs": [
    {
     "name": "stdout",
     "output_type": "stream",
     "text": [
      "Looking in indexes: https://pypi.tuna.tsinghua.edu.cn/simple\n",
      "Collecting openai\n",
      "  Downloading https://pypi.tuna.tsinghua.edu.cn/packages/3d/49/72198d0941b3a0264b6d13033823025c01c497f1cbfd83db310392c49c0e/openai-1.51.2-py3-none-any.whl (383 kB)\n",
      "\u001b[K     |████████████████████████████████| 383 kB 1.4 MB/s eta 0:00:01\n",
      "\u001b[?25hCollecting pydantic<3,>=1.9.0\n",
      "  Downloading https://pypi.tuna.tsinghua.edu.cn/packages/df/e4/ba44652d562cbf0bf320e0f3810206149c8a4e99cdbf66da82e97ab53a15/pydantic-2.9.2-py3-none-any.whl (434 kB)\n",
      "\u001b[K     |████████████████████████████████| 434 kB 17.6 MB/s eta 0:00:01\n",
      "\u001b[?25hCollecting httpx<1,>=0.23.0\n",
      "  Downloading https://pypi.tuna.tsinghua.edu.cn/packages/56/95/9377bcb415797e44274b51d46e3249eba641711cf3348050f76ee7b15ffc/httpx-0.27.2-py3-none-any.whl (76 kB)\n",
      "\u001b[K     |████████████████████████████████| 76 kB 25.1 MB/s eta 0:00:011\n",
      "\u001b[?25hRequirement already satisfied: tqdm>4 in /root/miniconda3/lib/python3.8/site-packages (from openai) (4.61.2)\n",
      "Requirement already satisfied: sniffio in /root/miniconda3/lib/python3.8/site-packages (from openai) (1.2.0)\n",
      "Collecting jiter<1,>=0.4.0\n",
      "  Downloading https://pypi.tuna.tsinghua.edu.cn/packages/0c/20/2b8bd55f0ff333e029b1aaed2663c4be55adae0de16fd8a10d9544d0a1a4/jiter-0.6.1-cp38-cp38-manylinux_2_17_x86_64.manylinux2014_x86_64.whl (325 kB)\n",
      "\u001b[K     |████████████████████████████████| 325 kB 108.3 MB/s eta 0:00:01\n",
      "\u001b[?25hCollecting typing-extensions<5,>=4.11\n",
      "  Downloading https://pypi.tuna.tsinghua.edu.cn/packages/26/9f/ad63fc0248c5379346306f8668cda6e2e2e9c95e01216d2b8ffd9ff037d0/typing_extensions-4.12.2-py3-none-any.whl (37 kB)\n",
      "Requirement already satisfied: anyio<5,>=3.5.0 in /root/miniconda3/lib/python3.8/site-packages (from openai) (3.6.1)\n",
      "Collecting distro<2,>=1.7.0\n",
      "  Downloading https://pypi.tuna.tsinghua.edu.cn/packages/12/b3/231ffd4ab1fc9d679809f356cebee130ac7daa00d6d6f3206dd4fd137e9e/distro-1.9.0-py3-none-any.whl (20 kB)\n",
      "Requirement already satisfied: idna>=2.8 in /root/miniconda3/lib/python3.8/site-packages (from anyio<5,>=3.5.0->openai) (2.10)\n",
      "Collecting httpcore==1.*\n",
      "  Downloading https://pypi.tuna.tsinghua.edu.cn/packages/06/89/b161908e2f51be56568184aeb4a880fd287178d176fd1c860d2217f41106/httpcore-1.0.6-py3-none-any.whl (78 kB)\n",
      "\u001b[K     |████████████████████████████████| 78 kB 438 kB/s eta 0:00:011\n",
      "\u001b[?25hRequirement already satisfied: certifi in /root/miniconda3/lib/python3.8/site-packages (from httpx<1,>=0.23.0->openai) (2021.5.30)\n",
      "Collecting h11<0.15,>=0.13\n",
      "  Downloading https://pypi.tuna.tsinghua.edu.cn/packages/95/04/ff642e65ad6b90db43e668d70ffb6736436c7ce41fcc549f4e9472234127/h11-0.14.0-py3-none-any.whl (58 kB)\n",
      "\u001b[K     |████████████████████████████████| 58 kB 1.1 MB/s eta 0:00:011\n",
      "\u001b[?25hCollecting pydantic-core==2.23.4\n",
      "  Downloading https://pypi.tuna.tsinghua.edu.cn/packages/a5/a4/229432a701acd98575b88ccaff82e8435c75c44cb30522004afb263e3756/pydantic_core-2.23.4-cp38-cp38-manylinux_2_17_x86_64.manylinux2014_x86_64.whl (2.1 MB)\n",
      "\u001b[K     |████████████████████████████████| 2.1 MB 3.0 MB/s eta 0:00:01\n",
      "\u001b[?25hCollecting annotated-types>=0.6.0\n",
      "  Downloading https://pypi.tuna.tsinghua.edu.cn/packages/78/b6/6307fbef88d9b5ee7421e68d78a9f162e0da4900bc5f5793f6d3d0e34fb8/annotated_types-0.7.0-py3-none-any.whl (13 kB)\n",
      "Installing collected packages: typing-extensions, h11, pydantic-core, httpcore, annotated-types, pydantic, jiter, httpx, distro, openai\n",
      "  Attempting uninstall: typing-extensions\n",
      "    Found existing installation: typing-extensions 4.2.0\n",
      "    Uninstalling typing-extensions-4.2.0:\n",
      "      Successfully uninstalled typing-extensions-4.2.0\n",
      "Successfully installed annotated-types-0.7.0 distro-1.9.0 h11-0.14.0 httpcore-1.0.6 httpx-0.27.2 jiter-0.6.1 openai-1.51.2 pydantic-2.9.2 pydantic-core-2.23.4 typing-extensions-4.12.2\n",
      "\u001b[33mWARNING: Running pip as the 'root' user can result in broken permissions and conflicting behaviour with the system package manager. It is recommended to use a virtual environment instead: https://pip.pypa.io/warnings/venv\u001b[0m\n",
      "Note: you may need to restart the kernel to use updated packages.\n"
     ]
    }
   ],
   "source": [
    "pip install openai"
   ]
  },
  {
   "cell_type": "code",
   "execution_count": null,
   "id": "d5e8a185-7140-487f-aa8d-30a26a065aa1",
   "metadata": {},
   "outputs": [],
   "source": [
    "import os\n",
    "from dotenv import load_dotenv\n",
    "\n",
    "\"\"\"\n",
    "config 模块负责加载和管理应用的配置。\n",
    "它从 .env 文件和环境变量中读取配置，并提供一个统一的配置对象。\n",
    "这个模块集中了所有的配置管理，使得配置的修改和维护更加容易。\n",
    "\"\"\"\n",
    "\n",
    "def load_config():\n",
    "    \"\"\"\n",
    "    加载配置\n",
    "    :return: 包含所有配置项的字典\n",
    "    \"\"\"\n",
    "    # 加载 .env 文件中的环境变量\n",
    "    load_dotenv()\n",
    "\n",
    "    return {\n",
    "        # DashScope 相关配置\n",
    "        \"dashscope_api_key\": os.getenv(\"DASHSCOPE_API_KEY\"),\n",
    "        \"base_url\": \"https://dashscope.aliyuncs.com/compatible-mode/v1\",\n",
    "        \n",
    "        # 其他配置项\n",
    "        \"github_token\": os.getenv(\"GITHUB_TOKEN\"),\n",
    "        \"github_repo\": {\n",
    "            \"owner\": os.getenv(\"GITHUB_REPO_OWNER\"),\n",
    "            \"repo\": os.getenv(\"GITHUB_REPO_NAME\"),\n",
    "        },\n",
    "        # 可以根据需要添加更多配置项\n",
    "    }\n"
   ]
  }
 ],
 "metadata": {
  "kernelspec": {
   "display_name": "Python 3 (ipykernel)",
   "language": "python",
   "name": "python3"
  },
  "language_info": {
   "codemirror_mode": {
    "name": "ipython",
    "version": 3
   },
   "file_extension": ".py",
   "mimetype": "text/x-python",
   "name": "python",
   "nbconvert_exporter": "python",
   "pygments_lexer": "ipython3",
   "version": "3.8.10"
  }
 },
 "nbformat": 4,
 "nbformat_minor": 5
}
